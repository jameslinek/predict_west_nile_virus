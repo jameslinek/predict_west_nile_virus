{
 "cells": [
  {
   "cell_type": "code",
   "execution_count": null,
   "metadata": {},
   "outputs": [],
   "source": [
    "import matplotlib.pyplot as plt"
   ]
  },
  {
   "cell_type": "code",
   "execution_count": null,
   "metadata": {},
   "outputs": [],
   "source": [
    "train.groupby('Year')['NumMosquitos'].sum().plot(kind='bar')\n",
    "plt.ylabel('Number of Mosquitos')\n",
    "plt.title('Number of Mosquitos Per Year');"
   ]
  },
  {
   "cell_type": "code",
   "execution_count": null,
   "metadata": {},
   "outputs": [],
   "source": [
    "train.groupby('Month')['NumMosquitos'].mean().plot(kind='bar')\n",
    "plt.ylabel('Average Number of Mosquitos')\n",
    "plt.title('Average Number of Mosquitos Per Month');"
   ]
  },
  {
   "cell_type": "code",
   "execution_count": null,
   "metadata": {},
   "outputs": [],
   "source": [
    "train.groupby('Tavg_x')['NumMosquitos'].mean().plot(kind='bar')\n",
    "plt.ylabel('Average Number of Mosquitos')\n",
    "plt.xlabel('Average Temperature (Farenheit)')\n",
    "plt.title('Average Number of Mosquitos Depending on Average Temperature');"
   ]
  }
 ],
 "metadata": {
  "kernelspec": {
   "display_name": "Python [conda env:dsi]",
   "language": "python",
   "name": "conda-env-dsi-py"
  },
  "language_info": {
   "codemirror_mode": {
    "name": "ipython",
    "version": 3
   },
   "file_extension": ".py",
   "mimetype": "text/x-python",
   "name": "python",
   "nbconvert_exporter": "python",
   "pygments_lexer": "ipython3",
   "version": "3.6.5"
  }
 },
 "nbformat": 4,
 "nbformat_minor": 2
}
